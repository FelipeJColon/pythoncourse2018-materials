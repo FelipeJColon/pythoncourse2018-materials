{
 "cells": [
  {
   "cell_type": "markdown",
   "metadata": {},
   "source": [
    "# [Introduction to Python in Environmental Sciences](https://ueapy.github.io/pythoncourse2018/)\n",
    "*EnvEast & Cefas workshop*"
   ]
  },
  {
   "cell_type": "markdown",
   "metadata": {},
   "source": [
    "The full notebook listing is available on [Github](https://github.com/ueapy/pythoncourse2018)."
   ]
  },
  {
   "cell_type": "markdown",
   "metadata": {},
   "source": [
    "## Index\n",
    "\n",
    "1. [Introduction](notebooks/00-Introduction.ipynb)"
   ]
  }
 ],
 "metadata": {
  "anaconda-cloud": {},
  "kernelspec": {
   "display_name": "Python [conda env:course2018]",
   "language": "python",
   "name": "conda-env-course2018-py"
  },
  "language_info": {
   "codemirror_mode": {
    "name": "ipython",
    "version": 3
   },
   "file_extension": ".py",
   "mimetype": "text/x-python",
   "name": "python",
   "nbconvert_exporter": "python",
   "pygments_lexer": "ipython3",
   "version": "3.6.3"
  }
 },
 "nbformat": 4,
 "nbformat_minor": 1
}
